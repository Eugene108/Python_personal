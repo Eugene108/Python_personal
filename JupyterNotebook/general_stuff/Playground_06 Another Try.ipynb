{
 "cells": [
  {
   "cell_type": "code",
   "execution_count": 1,
   "metadata": {},
   "outputs": [],
   "source": [
    "import matplotlib.pyplot as plt\n",
    "import numpy as np\n",
    "import pandas as pd\n",
    "import statistics\n",
    "from sklearn import datasets, linear_model\n",
    "from sklearn.linear_model import LinearRegression"
   ]
  },
  {
   "cell_type": "code",
   "execution_count": 2,
   "metadata": {},
   "outputs": [],
   "source": [
    "#https://www.youtube.com/watch?v=Qa2APhWjQPc\n",
    "#youtube.com/watch?v=kHZBy1uVNnM"
   ]
  },
  {
   "cell_type": "code",
   "execution_count": 33,
   "metadata": {},
   "outputs": [
    {
     "name": "stdout",
     "output_type": "stream",
     "text": [
      "74\n",
      "10\n"
     ]
    }
   ],
   "source": [
    "bills = [34, 108, 64, 88, 99, 51]\n",
    "tips =  [5,  17,  11, 8,  14, 5]\n",
    "bills_mean = statistics.mean(bills)\n",
    "tips_mean = statistics.mean(tips)\n",
    "print(\"{0}\\n{1}\".format(bills_mean, tips_mean))"
   ]
  },
  {
   "cell_type": "code",
   "execution_count": 4,
   "metadata": {},
   "outputs": [
    {
     "data": {
      "image/png": "[encoded data removed]",
      "text/plain": [
       "<Figure size 432x288 with 1 Axes>"
      ]
     },
     "metadata": {
      "needs_background": "light"
     },
     "output_type": "display_data"
    }
   ],
   "source": [
    "plt.scatter(bills, tips,  color='green')\n",
    "#plt.scatter([10,50], [20,30],  color='black')\n",
    "plt.plot(bills,[tips_mean for tm in range(len(bills))], color='red', linewidth=4)\n",
    "plt.show()"
   ]
  },
  {
   "cell_type": "code",
   "execution_count": 5,
   "metadata": {},
   "outputs": [
    {
     "data": {
      "text/plain": [
       "[-40, 34, -10, 14, 25, -23]"
      ]
     },
     "execution_count": 5,
     "metadata": {},
     "output_type": "execute_result"
    }
   ],
   "source": [
    "#x - mean(x)\n",
    "bill_deviations = [bill - bills_mean for bill in bills]\n",
    "bill_deviations"
   ]
  },
  {
   "cell_type": "code",
   "execution_count": 6,
   "metadata": {},
   "outputs": [
    {
     "data": {
      "text/plain": [
       "[-5, 7, 1, -2, 4, -5]"
      ]
     },
     "execution_count": 6,
     "metadata": {},
     "output_type": "execute_result"
    }
   ],
   "source": [
    "tip_deviations = [tip - tips_mean for tip in tips]\n",
    "tip_deviations"
   ]
  },
  {
   "cell_type": "code",
   "execution_count": 7,
   "metadata": {},
   "outputs": [
    {
     "data": {
      "text/plain": [
       "[25, 49, 1, 4, 16, 25]"
      ]
     },
     "execution_count": 7,
     "metadata": {},
     "output_type": "execute_result"
    }
   ],
   "source": [
    "squared_deviations = [e**2 for e in tip_deviations]\n",
    "squared_deviations"
   ]
  },
  {
   "cell_type": "code",
   "execution_count": 8,
   "metadata": {},
   "outputs": [],
   "source": [
    "#SSE - sum of squared errros (should be as low as possible, for the model to be considered a good fit)\n",
    "#SST = sum of total squares\n",
    "#SSR = sum of error due to regression\n",
    "#SSR = SST - SSE"
   ]
  },
  {
   "cell_type": "code",
   "execution_count": 9,
   "metadata": {
    "scrolled": true
   },
   "outputs": [
    {
     "data": {
      "text/plain": [
       "120"
      ]
     },
     "execution_count": 9,
     "metadata": {},
     "output_type": "execute_result"
    }
   ],
   "source": [
    "sst = sum(squared_deviations)\n",
    "sst"
   ]
  },
  {
   "cell_type": "code",
   "execution_count": 10,
   "metadata": {},
   "outputs": [],
   "source": [
    "def tip_regression(x):\n",
    "    result = round((0.1462 * x) - 0.8188, 4)\n",
    "    return result"
   ]
  },
  {
   "cell_type": "code",
   "execution_count": 11,
   "metadata": {
    "scrolled": true
   },
   "outputs": [
    {
     "data": {
      "text/plain": [
       "[4.152, 14.9708, 8.538, 12.0468, 13.655, 6.6374]"
      ]
     },
     "execution_count": 11,
     "metadata": {},
     "output_type": "execute_result"
    }
   ],
   "source": [
    "predicted_amount = [tip_regression(bill) for bill in bills]\n",
    "predicted_amount"
   ]
  },
  {
   "cell_type": "code",
   "execution_count": 12,
   "metadata": {
    "scrolled": true
   },
   "outputs": [
    {
     "name": "stdout",
     "output_type": "stream",
     "text": [
      "[0.848, 2.0292, 2.462, -4.0468, 0.345, -1.6374]\n",
      "[0.7191, 4.1177, 6.0614, 16.3766, 0.119, 2.6811]\n"
     ]
    },
    {
     "data": {
      "text/plain": [
       "30.0749"
      ]
     },
     "execution_count": 12,
     "metadata": {},
     "output_type": "execute_result"
    }
   ],
   "source": [
    "#error = tips - predicted_amount\n",
    "error = [round(tip - predicted, 4) for tip, predicted in zip(tips, predicted_amount)]\n",
    "print(error)\n",
    "squared_error = [round(e**2,4) for e in error] #SSE\n",
    "print(squared_error)\n",
    "sse = (sum(squared_error)) \n",
    "sse"
   ]
  },
  {
   "cell_type": "code",
   "execution_count": 13,
   "metadata": {
    "scrolled": true
   },
   "outputs": [
    {
     "name": "stdout",
     "output_type": "stream",
     "text": [
      "89.9251\n"
     ]
    },
    {
     "data": {
      "text/plain": [
       "0.7493758333333334"
      ]
     },
     "execution_count": 13,
     "metadata": {},
     "output_type": "execute_result"
    }
   ],
   "source": [
    "# coefficient of determination = r**2 = SSR/SST\n",
    "# 74.9% of the total sum of squares can be explained by using the estimated regression equation to predict the tip amount. \n",
    "# The rest is an error.\n",
    "\n",
    "ssr = sst - sse\n",
    "print(ssr)\n",
    "coeficient_of_determination = ssr/sst\n",
    "coeficient_of_determination"
   ]
  },
  {
   "cell_type": "code",
   "execution_count": 14,
   "metadata": {},
   "outputs": [
    {
     "data": {
      "text/plain": [
       "[200, 238, -10, -28, 100, 115]"
      ]
     },
     "execution_count": 14,
     "metadata": {},
     "output_type": "execute_result"
    }
   ],
   "source": [
    "deviation_products = [b*t for b,t in zip(bill_deviations,tip_deviations)]\n",
    "deviation_products"
   ]
  },
  {
   "cell_type": "code",
   "execution_count": 15,
   "metadata": {},
   "outputs": [
    {
     "data": {
      "text/plain": [
       "615"
      ]
     },
     "execution_count": 15,
     "metadata": {},
     "output_type": "execute_result"
    }
   ],
   "source": [
    "sum_deviation = sum(deviation_products)\n",
    "sum_deviation"
   ]
  },
  {
   "cell_type": "code",
   "execution_count": 16,
   "metadata": {},
   "outputs": [
    {
     "data": {
      "text/plain": [
       "[1600, 1156, 100, 196, 625, 529]"
      ]
     },
     "execution_count": 16,
     "metadata": {},
     "output_type": "execute_result"
    }
   ],
   "source": [
    "bill_deviations_squared = [bill_d ** 2 for bill_d in bill_deviations]\n",
    "bill_deviations_squared"
   ]
  },
  {
   "cell_type": "code",
   "execution_count": 17,
   "metadata": {},
   "outputs": [
    {
     "data": {
      "text/plain": [
       "4206"
      ]
     },
     "execution_count": 17,
     "metadata": {},
     "output_type": "execute_result"
    }
   ],
   "source": [
    "sum_bill_deviations_squared = sum(bill_deviations_squared)\n",
    "sum_bill_deviations_squared"
   ]
  },
  {
   "cell_type": "code",
   "execution_count": 18,
   "metadata": {
    "scrolled": true
   },
   "outputs": [
    {
     "name": "stdout",
     "output_type": "stream",
     "text": [
      "615 / 4206 = 0.1462\n"
     ]
    }
   ],
   "source": [
    "# slope of the regression line:\n",
    "slope = sum_deviation / sum_bill_deviations_squared\n",
    "slope = round(slope,4)\n",
    "print(\"{0} / {1} = {2}\".format(sum_deviation, sum_bill_deviations_squared, slope))"
   ]
  },
  {
   "cell_type": "code",
   "execution_count": 19,
   "metadata": {},
   "outputs": [
    {
     "name": "stdout",
     "output_type": "stream",
     "text": [
      "-0.8188\n"
     ]
    }
   ],
   "source": [
    "# intersept\n",
    "# b0 = yLINE - b1xLINE\n",
    "b0 = tips_mean - slope * bills_mean\n",
    "print(\"{0:.4f}\".format(b0))"
   ]
  },
  {
   "cell_type": "code",
   "execution_count": 20,
   "metadata": {},
   "outputs": [],
   "source": [
    "# Regression line:\n",
    "#     y = 0.1462x -0.8188\n",
    "# for every dollar, we expect an increase of 15 cents\n",
    "# if the bill amount is 0, then the tip is negative 82 cents... Sometimes it does not make sense."
   ]
  },
  {
   "cell_type": "code",
   "execution_count": 21,
   "metadata": {},
   "outputs": [],
   "source": [
    "x = np.array(bills).reshape(-1, 1)\n",
    "y = np.array(tips)\n",
    "\n",
    "#model = LinearRegression()"
   ]
  },
  {
   "cell_type": "code",
   "execution_count": 22,
   "metadata": {},
   "outputs": [],
   "source": [
    "model = LinearRegression().fit(x, y)"
   ]
  },
  {
   "cell_type": "code",
   "execution_count": 23,
   "metadata": {},
   "outputs": [
    {
     "data": {
      "text/plain": [
       "0.7493758915834522"
      ]
     },
     "execution_count": 23,
     "metadata": {},
     "output_type": "execute_result"
    }
   ],
   "source": [
    "model.score(x,y)"
   ]
  },
  {
   "cell_type": "code",
   "execution_count": 24,
   "metadata": {},
   "outputs": [
    {
     "data": {
      "text/plain": [
       "array([ 4.15121255, 14.97146933,  8.53780314, 12.04707561, 13.65549215,\n",
       "        6.63694722])"
      ]
     },
     "execution_count": 24,
     "metadata": {},
     "output_type": "execute_result"
    }
   ],
   "source": [
    "model.predict(x)"
   ]
  },
  {
   "cell_type": "code",
   "execution_count": 25,
   "metadata": {},
   "outputs": [
    {
     "data": {
      "text/plain": [
       "array([0.14621969])"
      ]
     },
     "execution_count": 25,
     "metadata": {},
     "output_type": "execute_result"
    }
   ],
   "source": [
    "model.coef_"
   ]
  },
  {
   "cell_type": "code",
   "execution_count": 26,
   "metadata": {},
   "outputs": [
    {
     "data": {
      "text/plain": [
       "0.7493758915834522"
      ]
     },
     "execution_count": 26,
     "metadata": {},
     "output_type": "execute_result"
    }
   ],
   "source": [
    "model.score(x,y)"
   ]
  },
  {
   "cell_type": "code",
   "execution_count": 27,
   "metadata": {},
   "outputs": [
    {
     "data": {
      "image/png": "[encoded data removed]",
      "text/plain": [
       "<Figure size 432x288 with 1 Axes>"
      ]
     },
     "metadata": {
      "needs_background": "light"
     },
     "output_type": "display_data"
    }
   ],
   "source": [
    "plt.scatter(x, y, color='green')\n",
    "plt.plot(x, model.predict(x), color='red', linewidth=4)\n",
    "plt.show()"
   ]
  },
  {
   "cell_type": "code",
   "execution_count": 28,
   "metadata": {},
   "outputs": [],
   "source": [
    "## Linear Regression, Standardized Regression\n",
    "#youtube.com/watch?v=_7pSUXwjEO8"
   ]
  },
  {
   "cell_type": "code",
   "execution_count": 50,
   "metadata": {
    "scrolled": true
   },
   "outputs": [
    {
     "name": "stdout",
     "output_type": "stream",
     "text": [
      "29.003448070875987\n",
      "[-1.3791, 1.1723, -0.3448, 0.4827, 0.862, -0.793]\n"
     ]
    }
   ],
   "source": [
    "#Standardizing the bill values\n",
    "stdev_bills = statistics.stdev(bills)\n",
    "print(stdev_bills)\n",
    "\n",
    "z_bill = [round((bill - bills_mean)/stdev_bills,4) for bill in bills]\n",
    "print(z_bill)"
   ]
  },
  {
   "cell_type": "code",
   "execution_count": 51,
   "metadata": {
    "scrolled": true
   },
   "outputs": [
    {
     "name": "stdout",
     "output_type": "stream",
     "text": [
      "4.898979485566356\n",
      "[-1.0206, 1.4289, 0.2041, -0.4082, 0.8165, -1.0206]\n"
     ]
    }
   ],
   "source": [
    "#Standardizing the bill values\n",
    "stdev_tips = statistics.stdev(tips)\n",
    "print(stdev_tips)\n",
    "\n",
    "z_tips = [round((tip - tips_mean)/stdev_tips,4) for tip in tips]\n",
    "print(z_tips)"
   ]
  },
  {
   "cell_type": "code",
   "execution_count": null,
   "metadata": {},
   "outputs": [],
   "source": []
  }
 ],
 "metadata": {
  "kernelspec": {
   "display_name": "Python 3",
   "language": "python",
   "name": "python3"
  },
  "language_info": {
   "codemirror_mode": {
    "name": "ipython",
    "version": 3
   },
   "file_extension": ".py",
   "mimetype": "text/x-python",
   "name": "python",
   "nbconvert_exporter": "python",
   "pygments_lexer": "ipython3",
   "version": "3.7.4"
  }
 },
 "nbformat": 4,
 "nbformat_minor": 2
}
